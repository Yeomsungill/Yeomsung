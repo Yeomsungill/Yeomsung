{
 "cells": [
  {
   "cell_type": "code",
   "execution_count": 1,
   "metadata": {},
   "outputs": [],
   "source": [
    "import datetime"
   ]
  },
  {
   "cell_type": "code",
   "execution_count": 13,
   "metadata": {},
   "outputs": [
    {
     "name": "stdout",
     "output_type": "stream",
     "text": [
      "2022-08-31 10:16:20\n"
     ]
    }
   ],
   "source": [
    "format = \"%y-%m-%d %H:%M:%S\"\n",
    "datetime_str = \"2022-08-31 10:16:20\"\n",
    "print(datetime_str)"
   ]
  },
  {
   "cell_type": "code",
   "execution_count": 23,
   "metadata": {},
   "outputs": [
    {
     "ename": "ValueError",
     "evalue": "time data '2022-08-31 10:16:20' does not match format '%y-%m-%d %H:%M:%S'",
     "output_type": "error",
     "traceback": [
      "\u001b[1;31m---------------------------------------------------------------------------\u001b[0m",
      "\u001b[1;31mValueError\u001b[0m                                Traceback (most recent call last)",
      "\u001b[1;32mc:\\Users\\tjddlf132\\Desktop\\ㄱ.염성일\\20220831\\datatime.ipynb 셀 3\u001b[0m in \u001b[0;36m<cell line: 1>\u001b[1;34m()\u001b[0m\n\u001b[1;32m----> <a href='vscode-notebook-cell:/c%3A/Users/tjddlf132/Desktop/%E3%84%B1.%EC%97%BC%EC%84%B1%EC%9D%BC/20220831/datatime.ipynb#W2sZmlsZQ%3D%3D?line=0'>1</a>\u001b[0m date \u001b[39m=\u001b[39m datetime\u001b[39m.\u001b[39;49mdatetime\u001b[39m.\u001b[39;49mstrptime(datetime_str,\u001b[39mformat\u001b[39;49m)\n\u001b[0;32m      <a href='vscode-notebook-cell:/c%3A/Users/tjddlf132/Desktop/%E3%84%B1.%EC%97%BC%EC%84%B1%EC%9D%BC/20220831/datatime.ipynb#W2sZmlsZQ%3D%3D?line=1'>2</a>\u001b[0m \u001b[39mprint\u001b[39m(date)\n\u001b[0;32m      <a href='vscode-notebook-cell:/c%3A/Users/tjddlf132/Desktop/%E3%84%B1.%EC%97%BC%EC%84%B1%EC%9D%BC/20220831/datatime.ipynb#W2sZmlsZQ%3D%3D?line=2'>3</a>\u001b[0m \u001b[39mprint\u001b[39m(\u001b[39mtype\u001b[39m(date))\n",
      "File \u001b[1;32mc:\\Users\\tjddlf132\\AppData\\Local\\Programs\\Python\\Python310\\lib\\_strptime.py:568\u001b[0m, in \u001b[0;36m_strptime_datetime\u001b[1;34m(cls, data_string, format)\u001b[0m\n\u001b[0;32m    565\u001b[0m \u001b[39mdef\u001b[39;00m \u001b[39m_strptime_datetime\u001b[39m(\u001b[39mcls\u001b[39m, data_string, \u001b[39mformat\u001b[39m\u001b[39m=\u001b[39m\u001b[39m\"\u001b[39m\u001b[39m%a\u001b[39;00m\u001b[39m \u001b[39m\u001b[39m%\u001b[39m\u001b[39mb \u001b[39m\u001b[39m%d\u001b[39;00m\u001b[39m \u001b[39m\u001b[39m%\u001b[39m\u001b[39mH:\u001b[39m\u001b[39m%\u001b[39m\u001b[39mM:\u001b[39m\u001b[39m%\u001b[39m\u001b[39mS \u001b[39m\u001b[39m%\u001b[39m\u001b[39mY\u001b[39m\u001b[39m\"\u001b[39m):\n\u001b[0;32m    566\u001b[0m     \u001b[39m\"\"\"Return a class cls instance based on the input string and the\u001b[39;00m\n\u001b[0;32m    567\u001b[0m \u001b[39m    format string.\"\"\"\u001b[39;00m\n\u001b[1;32m--> 568\u001b[0m     tt, fraction, gmtoff_fraction \u001b[39m=\u001b[39m _strptime(data_string, \u001b[39mformat\u001b[39;49m)\n\u001b[0;32m    569\u001b[0m     tzname, gmtoff \u001b[39m=\u001b[39m tt[\u001b[39m-\u001b[39m\u001b[39m2\u001b[39m:]\n\u001b[0;32m    570\u001b[0m     args \u001b[39m=\u001b[39m tt[:\u001b[39m6\u001b[39m] \u001b[39m+\u001b[39m (fraction,)\n",
      "File \u001b[1;32mc:\\Users\\tjddlf132\\AppData\\Local\\Programs\\Python\\Python310\\lib\\_strptime.py:349\u001b[0m, in \u001b[0;36m_strptime\u001b[1;34m(data_string, format)\u001b[0m\n\u001b[0;32m    347\u001b[0m found \u001b[39m=\u001b[39m format_regex\u001b[39m.\u001b[39mmatch(data_string)\n\u001b[0;32m    348\u001b[0m \u001b[39mif\u001b[39;00m \u001b[39mnot\u001b[39;00m found:\n\u001b[1;32m--> 349\u001b[0m     \u001b[39mraise\u001b[39;00m \u001b[39mValueError\u001b[39;00m(\u001b[39m\"\u001b[39m\u001b[39mtime data \u001b[39m\u001b[39m%r\u001b[39;00m\u001b[39m does not match format \u001b[39m\u001b[39m%r\u001b[39;00m\u001b[39m\"\u001b[39m \u001b[39m%\u001b[39m\n\u001b[0;32m    350\u001b[0m                      (data_string, \u001b[39mformat\u001b[39m))\n\u001b[0;32m    351\u001b[0m \u001b[39mif\u001b[39;00m \u001b[39mlen\u001b[39m(data_string) \u001b[39m!=\u001b[39m found\u001b[39m.\u001b[39mend():\n\u001b[0;32m    352\u001b[0m     \u001b[39mraise\u001b[39;00m \u001b[39mValueError\u001b[39;00m(\u001b[39m\"\u001b[39m\u001b[39munconverted data remains: \u001b[39m\u001b[39m%s\u001b[39;00m\u001b[39m\"\u001b[39m \u001b[39m%\u001b[39m\n\u001b[0;32m    353\u001b[0m                       data_string[found\u001b[39m.\u001b[39mend():])\n",
      "\u001b[1;31mValueError\u001b[0m: time data '2022-08-31 10:16:20' does not match format '%y-%m-%d %H:%M:%S'"
     ]
    }
   ],
   "source": [
    "date = datetime.datetime.strptime(datetime_str,format)\n",
    "print(date)\n",
    "print(type(date))"
   ]
  },
  {
   "cell_type": "code",
   "execution_count": 16,
   "metadata": {},
   "outputs": [
    {
     "data": {
      "text/plain": [
       "datetime.date(2022, 8, 31)"
      ]
     },
     "execution_count": 16,
     "metadata": {},
     "output_type": "execute_result"
    }
   ],
   "source": [
    "datetime.date.today()"
   ]
  },
  {
   "cell_type": "code",
   "execution_count": 21,
   "metadata": {},
   "outputs": [
    {
     "ename": "NameError",
     "evalue": "name 'date' is not defined",
     "output_type": "error",
     "traceback": [
      "\u001b[1;31m---------------------------------------------------------------------------\u001b[0m",
      "\u001b[1;31mNameError\u001b[0m                                 Traceback (most recent call last)",
      "\u001b[1;32mc:\\Users\\tjddlf132\\Desktop\\ㄱ.염성일\\20220831\\datatime.ipynb 셀 5\u001b[0m in \u001b[0;36m<cell line: 1>\u001b[1;34m()\u001b[0m\n\u001b[1;32m----> <a href='vscode-notebook-cell:/c%3A/Users/tjddlf132/Desktop/%E3%84%B1.%EC%97%BC%EC%84%B1%EC%9D%BC/20220831/datatime.ipynb#W4sZmlsZQ%3D%3D?line=0'>1</a>\u001b[0m date_str \u001b[39m=\u001b[39m date\u001b[39m.\u001b[39mstrptime(\u001b[39mformat\u001b[39m)\n\u001b[0;32m      <a href='vscode-notebook-cell:/c%3A/Users/tjddlf132/Desktop/%E3%84%B1.%EC%97%BC%EC%84%B1%EC%9D%BC/20220831/datatime.ipynb#W4sZmlsZQ%3D%3D?line=1'>2</a>\u001b[0m \u001b[39mprint\u001b[39m(date_str)\n\u001b[0;32m      <a href='vscode-notebook-cell:/c%3A/Users/tjddlf132/Desktop/%E3%84%B1.%EC%97%BC%EC%84%B1%EC%9D%BC/20220831/datatime.ipynb#W4sZmlsZQ%3D%3D?line=2'>3</a>\u001b[0m \u001b[39mprint\u001b[39m(\u001b[39mtype\u001b[39m(date_str))\n",
      "\u001b[1;31mNameError\u001b[0m: name 'date' is not defined"
     ]
    }
   ],
   "source": [
    "date_str = date.strftime(format)\n",
    "print(date_str)\n",
    "print(type(date_str))\n",
    "\n"
   ]
  },
  {
   "cell_type": "markdown",
   "metadata": {},
   "source": [
    "### datetime format\n",
    "\n",
    "    -%y : 년도를 축약해서 표시 ('22')\n",
    "    -%Y : 년도 전체를 표시('2022')\n",
    "    -%b : 축약된 월 이름('Mar')\n",
    "    -%B : 월 이름 ('March')\n",
    "    -%m : 월을 숫자로 표시 ('08')\n",
    "    -%d : 일을 숫자로 표시 ('31')\n",
    "    -%H : 시를 24시를 기준으로 표시\n",
    "    -%I : 시를 12시를 기준으로 표시\n",
    "    -%M : 분을 표시\n",
    "    -%S\n",
    "    -%a\n",
    "    -%A\n",
    "    -%w"
   ]
  },
  {
   "cell_type": "markdown",
   "metadata": {},
   "source": [
    "import pandas as pd"
   ]
  },
  {
   "cell_type": "code",
   "execution_count": 24,
   "metadata": {},
   "outputs": [],
   "source": [
    "import pandas as pd"
   ]
  },
  {
   "cell_type": "code",
   "execution_count": 26,
   "metadata": {},
   "outputs": [
    {
     "data": {
      "text/plain": [
       "Timestamp('1970-01-01 00:16:40')"
      ]
     },
     "execution_count": 26,
     "metadata": {},
     "output_type": "execute_result"
    }
   ],
   "source": [
    "# 나노초를 기준으로 1970-01-01 00:00:00에서 나노초만큼 더한 날짜\n",
    "pd.Timestamp(1000000000000)"
   ]
  },
  {
   "cell_type": "code",
   "execution_count": 28,
   "metadata": {},
   "outputs": [
    {
     "data": {
      "text/plain": [
       "Timestamp('2243-10-17 00:00:00')"
      ]
     },
     "execution_count": 28,
     "metadata": {},
     "output_type": "execute_result"
    }
   ],
   "source": [
    "# unit=\"D\" 기준을 일로 변경\n",
    "pd.Timestamp(100000,unit=\"D\")"
   ]
  },
  {
   "cell_type": "code",
   "execution_count": 31,
   "metadata": {},
   "outputs": [
    {
     "data": {
      "text/plain": [
       "Timestamp('2022-06-01 00:00:00')"
      ]
     },
     "execution_count": 31,
     "metadata": {},
     "output_type": "execute_result"
    }
   ],
   "source": [
    "pd.Timestamp(\"2022-06\")"
   ]
  },
  {
   "cell_type": "code",
   "execution_count": 33,
   "metadata": {},
   "outputs": [
    {
     "data": {
      "text/plain": [
       "Timestamp('2022-01-01 12:00:00')"
      ]
     },
     "execution_count": 33,
     "metadata": {},
     "output_type": "execute_result"
    }
   ],
   "source": [
    "pd.to_datetime(\"2022-01-01 12\")"
   ]
  },
  {
   "cell_type": "code",
   "execution_count": 37,
   "metadata": {},
   "outputs": [
    {
     "data": {
      "text/plain": [
       "DatetimeIndex(['2022-01-01', '2022-08-31'], dtype='datetime64[ns]', freq=None)"
      ]
     },
     "execution_count": 37,
     "metadata": {},
     "output_type": "execute_result"
    }
   ],
   "source": [
    "pd.to_datetime(['2022-01-01','2022-08-31'])"
   ]
  },
  {
   "cell_type": "code",
   "execution_count": 39,
   "metadata": {},
   "outputs": [
    {
     "data": {
      "text/plain": [
       "DatetimeIndex(['2022-01-01', '2022-01-02', '2022-01-03', '2022-01-04',\n",
       "               '2022-01-05', '2022-01-06', '2022-01-07', '2022-01-08',\n",
       "               '2022-01-09', '2022-01-10',\n",
       "               ...\n",
       "               '2022-08-22', '2022-08-23', '2022-08-24', '2022-08-25',\n",
       "               '2022-08-26', '2022-08-27', '2022-08-28', '2022-08-29',\n",
       "               '2022-08-30', '2022-08-31'],\n",
       "              dtype='datetime64[ns]', length=243, freq='D')"
      ]
     },
     "execution_count": 39,
     "metadata": {},
     "output_type": "execute_result"
    }
   ],
   "source": [
    "pd.date_range('2022-01-01','2022-08-31')"
   ]
  },
  {
   "cell_type": "code",
   "execution_count": 41,
   "metadata": {},
   "outputs": [
    {
     "data": {
      "text/plain": [
       "DatetimeIndex(['2022-01-31', '2022-02-28', '2022-03-31', '2022-04-30',\n",
       "               '2022-05-31', '2022-06-30', '2022-07-31', '2022-08-31'],\n",
       "              dtype='datetime64[ns]', freq='M')"
      ]
     },
     "execution_count": 41,
     "metadata": {},
     "output_type": "execute_result"
    }
   ],
   "source": [
    "pd.date_range('2022-01-01','2022-08-31',freq=\"M\")"
   ]
  },
  {
   "cell_type": "code",
   "execution_count": 46,
   "metadata": {},
   "outputs": [
    {
     "data": {
      "text/plain": [
       "Timedelta('1 days 02:00:00')"
      ]
     },
     "execution_count": 46,
     "metadata": {},
     "output_type": "execute_result"
    }
   ],
   "source": [
    "pd.Timedelta('1 days 02:00:00')"
   ]
  },
  {
   "cell_type": "code",
   "execution_count": 48,
   "metadata": {},
   "outputs": [
    {
     "data": {
      "text/plain": [
       "Timestamp('2022-09-01 03:00:00')"
      ]
     },
     "execution_count": 48,
     "metadata": {},
     "output_type": "execute_result"
    }
   ],
   "source": [
    "pd.Timestamp(\"2022-08-31\") + pd.Timedelta(\"1 days 03:00:00\")"
   ]
  },
  {
   "cell_type": "code",
   "execution_count": 49,
   "metadata": {},
   "outputs": [
    {
     "data": {
      "text/plain": [
       "Timedelta('1 days 00:00:30')"
      ]
     },
     "execution_count": 49,
     "metadata": {},
     "output_type": "execute_result"
    }
   ],
   "source": [
    "pd.Timedelta(days = 1, seconds =30)"
   ]
  }
 ],
 "metadata": {
  "kernelspec": {
   "display_name": "Python 3.10.6 64-bit",
   "language": "python",
   "name": "python3"
  },
  "language_info": {
   "codemirror_mode": {
    "name": "ipython",
    "version": 3
   },
   "file_extension": ".py",
   "mimetype": "text/x-python",
   "name": "python",
   "nbconvert_exporter": "python",
   "pygments_lexer": "ipython3",
   "version": "3.10.6"
  },
  "orig_nbformat": 4,
  "vscode": {
   "interpreter": {
    "hash": "f4d110a2421007c29e5763e456566bb3889d1406151a827559eb73ad4a82c678"
   }
  }
 },
 "nbformat": 4,
 "nbformat_minor": 2
}
