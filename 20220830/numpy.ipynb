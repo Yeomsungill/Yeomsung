{
 "cells": [
  {
   "cell_type": "code",
   "execution_count": 65,
   "metadata": {},
   "outputs": [],
   "source": [
    "import numpy as np"
   ]
  },
  {
   "cell_type": "code",
   "execution_count": 15,
   "metadata": {},
   "outputs": [
    {
     "name": "stdout",
     "output_type": "stream",
     "text": [
      "Requirement already satisfied: numpy in c:\\users\\tjddlf132\\appdata\\local\\programs\\python\\python310\\lib\\site-packages (1.23.2)\n"
     ]
    },
    {
     "name": "stderr",
     "output_type": "stream",
     "text": [
      "\n",
      "[notice] A new release of pip available: 22.2.1 -> 22.2.2\n",
      "[notice] To update, run: python.exe -m pip install --upgrade pip\n"
     ]
    }
   ],
   "source": [
    "!pip install numpy"
   ]
  },
  {
   "cell_type": "code",
   "execution_count": 58,
   "metadata": {},
   "outputs": [
    {
     "name": "stdout",
     "output_type": "stream",
     "text": [
      "[1 2 3 4]\n",
      "<class 'numpy.ndarray'>\n"
     ]
    }
   ],
   "source": [
    "np_array_1 = np.array([1,2,3,4])\n",
    "print(np_array_1)\n",
    "print(type(np_array_1))"
   ]
  },
  {
   "cell_type": "code",
   "execution_count": 60,
   "metadata": {},
   "outputs": [
    {
     "name": "stdout",
     "output_type": "stream",
     "text": [
      "[[1 2 3]\n",
      " [4 5 6]]\n"
     ]
    }
   ],
   "source": [
    "np_array_2 = np.array([[1,2,3],[4,5,6]])\n",
    "print(np_array_2)"
   ]
  },
  {
   "cell_type": "code",
   "execution_count": 23,
   "metadata": {},
   "outputs": [
    {
     "name": "stdout",
     "output_type": "stream",
     "text": [
      "[[1. 1. 1.]\n",
      " [1. 1. 1.]\n",
      " [1. 1. 1.]]\n"
     ]
    }
   ],
   "source": [
    "one_array = np.ones((3,3))\n",
    "print(one_array)"
   ]
  },
  {
   "cell_type": "code",
   "execution_count": 26,
   "metadata": {},
   "outputs": [
    {
     "name": "stdout",
     "output_type": "stream",
     "text": [
      "[[3 3 3 3]\n",
      " [3 3 3 3]\n",
      " [3 3 3 3]\n",
      " [3 3 3 3]]\n"
     ]
    }
   ],
   "source": [
    "full_array = np.full((4,4),3)\n",
    "print(full_array)"
   ]
  },
  {
   "cell_type": "code",
   "execution_count": 29,
   "metadata": {},
   "outputs": [
    {
     "name": "stdout",
     "output_type": "stream",
     "text": [
      "[[1. 0. 0. 0. 0.]\n",
      " [0. 1. 0. 0. 0.]\n",
      " [0. 0. 1. 0. 0.]\n",
      " [0. 0. 0. 1. 0.]\n",
      " [0. 0. 0. 0. 1.]]\n"
     ]
    }
   ],
   "source": [
    "eye_array = np.eye(5)\n",
    "print(eye_array)"
   ]
  },
  {
   "cell_type": "code",
   "execution_count": 31,
   "metadata": {},
   "outputs": [
    {
     "name": "stdout",
     "output_type": "stream",
     "text": [
      "[[0.8719227  0.78477195 0.96002774]\n",
      " [0.9721915  0.40236137 0.54937312]\n",
      " [0.2498013  0.77191684 0.01668174]]\n"
     ]
    }
   ],
   "source": [
    "random_array = np.random.random((3,3))\n",
    "print(random_array)"
   ]
  },
  {
   "cell_type": "code",
   "execution_count": 34,
   "metadata": {},
   "outputs": [
    {
     "name": "stdout",
     "output_type": "stream",
     "text": [
      "[0 1 2 3 4 5 6 7 8 9]\n"
     ]
    }
   ],
   "source": [
    "arange_array = np.arange(10)\n",
    "print(arange_array)"
   ]
  },
  {
   "cell_type": "code",
   "execution_count": 38,
   "metadata": {},
   "outputs": [
    {
     "name": "stdout",
     "output_type": "stream",
     "text": [
      "[[0 1 2 3 4]\n",
      " [5 6 7 8 9]]\n"
     ]
    }
   ],
   "source": [
    "reshape_array = arange_array.reshape((2,5))\n",
    "print(reshape_array)"
   ]
  },
  {
   "cell_type": "code",
   "execution_count": 40,
   "metadata": {},
   "outputs": [],
   "source": [
    "# 행렬 연산\n",
    "x = np.array([1,2,3])\n",
    "y = np.array([4,5,6])"
   ]
  },
  {
   "cell_type": "code",
   "execution_count": 64,
   "metadata": {},
   "outputs": [
    {
     "name": "stdout",
     "output_type": "stream",
     "text": [
      "[0.54055829 1.73734555 1.16186379 1.20629799 1.8102464  0.93821166\n",
      " 0.81099108 0.95486299 0.19210589 0.73924319 1.61538902 0.27533341\n",
      " 1.13107257 0.88687773 0.64597982 0.87763299 0.69267107 1.03499424\n",
      " 1.48902293 1.00401906 1.0246662  0.47300446 1.77840937 0.9675783\n",
      " 0.38786083 0.35597712 1.3657647  0.97303713 0.5313615  0.25945173\n",
      " 0.8011978  1.01871231 1.06181829 1.42765815 0.7367035  0.90788704\n",
      " 0.85367278 1.17413928 0.84031111 0.91068581 1.11601091 0.28228218\n",
      " 1.23863347 1.15648026 1.24658158 1.14203772 1.40152312 1.15229942\n",
      " 0.23198365 1.60759859]\n",
      "[0.54055829 1.73734555 1.16186379 1.20629799 1.8102464  0.93821166\n",
      " 0.81099108 0.95486299 0.19210589 0.73924319 1.61538902 0.27533341\n",
      " 1.13107257 0.88687773 0.64597982 0.87763299 0.69267107 1.03499424\n",
      " 1.48902293 1.00401906 1.0246662  0.47300446 1.77840937 0.9675783\n",
      " 0.38786083 0.35597712 1.3657647  0.97303713 0.5313615  0.25945173\n",
      " 0.8011978  1.01871231 1.06181829 1.42765815 0.7367035  0.90788704\n",
      " 0.85367278 1.17413928 0.84031111 0.91068581 1.11601091 0.28228218\n",
      " 1.23863347 1.15648026 1.24658158 1.14203772 1.40152312 1.15229942\n",
      " 0.23198365 1.60759859]\n"
     ]
    }
   ],
   "source": [
    "# 행렬의 합\n",
    "print(x + y)\n",
    "print(np.add(x,y))"
   ]
  },
  {
   "cell_type": "code",
   "execution_count": 44,
   "metadata": {},
   "outputs": [
    {
     "name": "stdout",
     "output_type": "stream",
     "text": [
      "[-3 -3 -3 -3]\n",
      "[ 5  7  9 11]\n"
     ]
    }
   ],
   "source": [
    "# 행렬의 차\n",
    "print( x - y)\n",
    "print(np.add(x,y))"
   ]
  },
  {
   "cell_type": "code",
   "execution_count": 46,
   "metadata": {},
   "outputs": [
    {
     "name": "stdout",
     "output_type": "stream",
     "text": [
      "[ 4 10 18 28]\n",
      "[ 5  7  9 11]\n"
     ]
    }
   ],
   "source": [
    "# 행렬의 곱\n",
    "print(x*y)\n",
    "print(np.add(x,y))"
   ]
  },
  {
   "cell_type": "code",
   "execution_count": 51,
   "metadata": {},
   "outputs": [
    {
     "name": "stdout",
     "output_type": "stream",
     "text": [
      "[0.25       0.4        0.5        0.57142857]\n",
      "[0.25       0.4        0.5        0.57142857]\n"
     ]
    }
   ],
   "source": [
    "# 행렬의 나누기\n",
    "print(x / y)\n",
    "print(np.divide(x,y))"
   ]
  },
  {
   "cell_type": "code",
   "execution_count": 62,
   "metadata": {},
   "outputs": [],
   "source": [
    "# 행렬의 행렬곱\n",
    "\n",
    "x2 = np.array([[1,2],[3,4]])\n",
    "y2 = np.array([[5,6],[7,8]])\n"
   ]
  },
  {
   "cell_type": "code",
   "execution_count": null,
   "metadata": {},
   "outputs": [],
   "source": []
  },
  {
   "cell_type": "code",
   "execution_count": 66,
   "metadata": {},
   "outputs": [
    {
     "ename": "NameError",
     "evalue": "name 'plt' is not defined",
     "output_type": "error",
     "traceback": [
      "\u001b[1;31m---------------------------------------------------------------------------\u001b[0m",
      "\u001b[1;31mNameError\u001b[0m                                 Traceback (most recent call last)",
      "\u001b[1;32mc:\\Users\\tjddlf132\\Desktop\\ㄱ.염성일\\20220830\\numpy.ipynb 셀 18\u001b[0m in \u001b[0;36m<cell line: 4>\u001b[1;34m()\u001b[0m\n\u001b[0;32m      <a href='vscode-notebook-cell:/c%3A/Users/tjddlf132/Desktop/%E3%84%B1.%EC%97%BC%EC%84%B1%EC%9D%BC/20220830/numpy.ipynb#X22sZmlsZQ%3D%3D?line=0'>1</a>\u001b[0m x \u001b[39m=\u001b[39m np\u001b[39m.\u001b[39mrandom\u001b[39m.\u001b[39mrand(\u001b[39m50\u001b[39m)\n\u001b[0;32m      <a href='vscode-notebook-cell:/c%3A/Users/tjddlf132/Desktop/%E3%84%B1.%EC%97%BC%EC%84%B1%EC%9D%BC/20220830/numpy.ipynb#X22sZmlsZQ%3D%3D?line=1'>2</a>\u001b[0m y \u001b[39m=\u001b[39m np\u001b[39m.\u001b[39mrandom\u001b[39m.\u001b[39mrand(\u001b[39m50\u001b[39m)\n\u001b[1;32m----> <a href='vscode-notebook-cell:/c%3A/Users/tjddlf132/Desktop/%E3%84%B1.%EC%97%BC%EC%84%B1%EC%9D%BC/20220830/numpy.ipynb#X22sZmlsZQ%3D%3D?line=3'>4</a>\u001b[0m plt\u001b[39m.\u001b[39mscatter(x,y)\n\u001b[0;32m      <a href='vscode-notebook-cell:/c%3A/Users/tjddlf132/Desktop/%E3%84%B1.%EC%97%BC%EC%84%B1%EC%9D%BC/20220830/numpy.ipynb#X22sZmlsZQ%3D%3D?line=4'>5</a>\u001b[0m plt\u001b[39m.\u001b[39mshow()\n",
      "\u001b[1;31mNameError\u001b[0m: name 'plt' is not defined"
     ]
    }
   ],
   "source": [
    "x = np.random.rand(50)\n",
    "y = np.random.rand(50)\n",
    "\n",
    "plt.scatter(x,y)\n",
    "plt.show()"
   ]
  }
 ],
 "metadata": {
  "kernelspec": {
   "display_name": "Python 3.10.6 64-bit",
   "language": "python",
   "name": "python3"
  },
  "language_info": {
   "codemirror_mode": {
    "name": "ipython",
    "version": 3
   },
   "file_extension": ".py",
   "mimetype": "text/x-python",
   "name": "python",
   "nbconvert_exporter": "python",
   "pygments_lexer": "ipython3",
   "version": "3.10.6"
  },
  "orig_nbformat": 4,
  "vscode": {
   "interpreter": {
    "hash": "f4d110a2421007c29e5763e456566bb3889d1406151a827559eb73ad4a82c678"
   }
  }
 },
 "nbformat": 4,
 "nbformat_minor": 2
}
