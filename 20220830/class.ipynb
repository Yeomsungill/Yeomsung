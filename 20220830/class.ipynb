{
 "cells": [
  {
   "cell_type": "code",
   "execution_count": 2,
   "metadata": {},
   "outputs": [],
   "source": [
    "# 클래스 선업\n",
    "class class_1():\n",
    "    def func_1(self):\n",
    "        print(\"class cell\")\n"
   ]
  },
  {
   "cell_type": "code",
   "execution_count": 4,
   "metadata": {},
   "outputs": [],
   "source": [
    "x = class_1()"
   ]
  },
  {
   "cell_type": "code",
   "execution_count": 7,
   "metadata": {},
   "outputs": [
    {
     "name": "stdout",
     "output_type": "stream",
     "text": [
      "class cell\n"
     ]
    }
   ],
   "source": [
    "x.func_1()"
   ]
  },
  {
   "cell_type": "code",
   "execution_count": 8,
   "metadata": {},
   "outputs": [],
   "source": [
    "class class_2():\n",
    "    def __init__(self,input_X,input_y):\n",
    "        self.x = input_X\n",
    "        self.y = input_y\n",
    "        "
   ]
  },
  {
   "cell_type": "code",
   "execution_count": 10,
   "metadata": {},
   "outputs": [],
   "source": [
    "a  = class_2(\"test\",1)"
   ]
  },
  {
   "cell_type": "code",
   "execution_count": 12,
   "metadata": {},
   "outputs": [
    {
     "name": "stdout",
     "output_type": "stream",
     "text": [
      "test 1\n"
     ]
    }
   ],
   "source": [
    "print(a.x,a.y)"
   ]
  },
  {
   "cell_type": "code",
   "execution_count": 13,
   "metadata": {},
   "outputs": [],
   "source": [
    "b = class_2(\"test2\",2)"
   ]
  },
  {
   "cell_type": "code",
   "execution_count": 14,
   "metadata": {},
   "outputs": [
    {
     "name": "stdout",
     "output_type": "stream",
     "text": [
      "test 1\n",
      "test2 2\n"
     ]
    }
   ],
   "source": [
    "print(a.x,a.y)\n",
    "print(b.x,b.y)"
   ]
  },
  {
   "cell_type": "code",
   "execution_count": 73,
   "metadata": {},
   "outputs": [],
   "source": [
    "class class_3():\n",
    "    def __init__(self,input_x,input_y):\n",
    "        self.x = input_x\n",
    "        self.y = input_y\n",
    "    def add(self):\n",
    "        self.result = self.x + self.y\n",
    "        return self.result\n",
    "    def subtract(self):\n",
    "        self.result = self.x - self.y\n",
    "        return self.result\n"
   ]
  },
  {
   "cell_type": "code",
   "execution_count": 74,
   "metadata": {},
   "outputs": [],
   "source": [
    "c = class_3(10,4)"
   ]
  },
  {
   "cell_type": "code",
   "execution_count": 75,
   "metadata": {},
   "outputs": [
    {
     "name": "stdout",
     "output_type": "stream",
     "text": [
      "14\n",
      "6\n"
     ]
    }
   ],
   "source": [
    "print(c.add())\n",
    "print(c.subtract())"
   ]
  },
  {
   "cell_type": "code",
   "execution_count": 19,
   "metadata": {},
   "outputs": [],
   "source": [
    "d = class_3(4,9)"
   ]
  },
  {
   "cell_type": "code",
   "execution_count": 22,
   "metadata": {},
   "outputs": [
    {
     "name": "stdout",
     "output_type": "stream",
     "text": [
      "8\n",
      "18\n",
      "4\n",
      "9\n"
     ]
    }
   ],
   "source": [
    "print(c.add())\n",
    "print(d.add())\n",
    "print(c.subtract())\n",
    "print(d.subtract())"
   ]
  },
  {
   "cell_type": "code",
   "execution_count": 68,
   "metadata": {},
   "outputs": [],
   "source": [
    "# 클래스 변수\n",
    "# 클래스들은 각자 독립적인 변수들을 가지고 행동\n",
    "# 클래스 변수는 class_3를 생성한 모든 곳에서 공유해서 사용이 가\n",
    "class class_4():\n",
    "    #list = []\n",
    "\n",
    "    def __init__(self, input_name):\n",
    "        self.name = input_name\n",
    "        # self.list = []\n",
    "\n",
    "    def add_list(self, input_phone):\n",
    "        self.list = []\n",
    "        self.list.append(input_phone)\n"
   ]
  },
  {
   "cell_type": "code",
   "execution_count": 69,
   "metadata": {},
   "outputs": [],
   "source": [
    "test = class_4(\"kim\")\n",
    "test2 = class_4(\"lee\")"
   ]
  },
  {
   "cell_type": "code",
   "execution_count": 72,
   "metadata": {},
   "outputs": [],
   "source": [
    "test.add_list(\"1204920420\")\n",
    "test2.add_list(\"3030303030\")"
   ]
  },
  {
   "cell_type": "code",
   "execution_count": 58,
   "metadata": {},
   "outputs": [
    {
     "name": "stdout",
     "output_type": "stream",
     "text": [
      "kim\n",
      "lee\n"
     ]
    }
   ],
   "source": [
    "print(test.name)\n",
    "print(test2.name)"
   ]
  },
  {
   "cell_type": "code",
   "execution_count": 67,
   "metadata": {},
   "outputs": [
    {
     "name": "stdout",
     "output_type": "stream",
     "text": [
      "['1204920420', '1204920420', '1204920420']\n",
      "['3030303030', '3030303030', '3030303030']\n"
     ]
    }
   ],
   "source": [
    "print(test.list)\n",
    "print(test2.list)"
   ]
  },
  {
   "cell_type": "markdown",
   "metadata": {},
   "source": [
    "1. name 하나당 휴대폰의 번호는 하나씩 나와야하는데 \n",
    "2. 2개씩 나오고 있는 상황\n",
    "3. 1개씩 나오고 있는 상황"
   ]
  },
  {
   "cell_type": "code",
   "execution_count": null,
   "metadata": {},
   "outputs": [],
   "source": []
  }
 ],
 "metadata": {
  "kernelspec": {
   "display_name": "Python 3.10.6 64-bit",
   "language": "python",
   "name": "python3"
  },
  "language_info": {
   "codemirror_mode": {
    "name": "ipython",
    "version": 3
   },
   "file_extension": ".py",
   "mimetype": "text/x-python",
   "name": "python",
   "nbconvert_exporter": "python",
   "pygments_lexer": "ipython3",
   "version": "3.10.6"
  },
  "orig_nbformat": 4,
  "vscode": {
   "interpreter": {
    "hash": "f4d110a2421007c29e5763e456566bb3889d1406151a827559eb73ad4a82c678"
   }
  }
 },
 "nbformat": 4,
 "nbformat_minor": 2
}
