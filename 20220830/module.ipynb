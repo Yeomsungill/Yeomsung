{
 "cells": [
  {
   "cell_type": "code",
   "execution_count": 3,
   "metadata": {},
   "outputs": [
    {
     "data": {
      "text/plain": [
       "<module 'mod1' from 'c:\\\\Users\\\\tjddlf132\\\\Desktop\\\\ㄱ.염성일\\\\20220830\\\\mod1.py'>"
      ]
     },
     "execution_count": 3,
     "metadata": {},
     "output_type": "execute_result"
    }
   ],
   "source": [
    "import mod1\n",
    "# 모듈을 다시 로드 하는 과정(모듈의 수정이 있을 시에 실행)\n",
    "import imp\n",
    "imp.reload(mod1)"
   ]
  },
  {
   "cell_type": "code",
   "execution_count": 4,
   "metadata": {},
   "outputs": [
    {
     "name": "stdout",
     "output_type": "stream",
     "text": [
      "module test\n"
     ]
    }
   ],
   "source": [
    "print(mod1.x)"
   ]
  },
  {
   "cell_type": "code",
   "execution_count": 21,
   "metadata": {},
   "outputs": [
    {
     "name": "stdout",
     "output_type": "stream",
     "text": [
      "<module 'mod1' from 'c:\\\\Users\\\\tjddlf132\\\\Desktop\\\\ㄱ.염성일\\\\20220830\\\\mod1.py'> 5\n"
     ]
    }
   ],
   "source": [
    "print(mod1,func_1(3,2))"
   ]
  },
  {
   "cell_type": "code",
   "execution_count": 15,
   "metadata": {},
   "outputs": [
    {
     "name": "stdout",
     "output_type": "stream",
     "text": [
      "<module 'mod1' from 'c:\\\\Users\\\\tjddlf132\\\\Desktop\\\\ㄱ.염성일\\\\20220830\\\\mod1.py'> 5\n"
     ]
    }
   ],
   "source": [
    "print(mod1,func_1(3,2))"
   ]
  },
  {
   "cell_type": "code",
   "execution_count": 25,
   "metadata": {},
   "outputs": [
    {
     "ename": "AttributeError",
     "evalue": "module 'mod1' has no attribute 'class_1'",
     "output_type": "error",
     "traceback": [
      "\u001b[1;31m---------------------------------------------------------------------------\u001b[0m",
      "\u001b[1;31mAttributeError\u001b[0m                            Traceback (most recent call last)",
      "\u001b[1;32mc:\\Users\\tjddlf132\\Desktop\\ㄱ.염성일\\20220830\\module.ipynb 셀 5\u001b[0m in \u001b[0;36m<cell line: 1>\u001b[1;34m()\u001b[0m\n\u001b[1;32m----> <a href='vscode-notebook-cell:/c%3A/Users/tjddlf132/Desktop/%E3%84%B1.%EC%97%BC%EC%84%B1%EC%9D%BC/20220830/module.ipynb#W5sZmlsZQ%3D%3D?line=0'>1</a>\u001b[0m test \u001b[39m=\u001b[39m mod1\u001b[39m.\u001b[39;49mclass_1(\u001b[39m\"\u001b[39m\u001b[39mtest data\u001b[39m\u001b[39m\"\u001b[39m)\n",
      "\u001b[1;31mAttributeError\u001b[0m: module 'mod1' has no attribute 'class_1'"
     ]
    }
   ],
   "source": [
    "test = mod1.class_1(\"test data\")"
   ]
  },
  {
   "cell_type": "code",
   "execution_count": 27,
   "metadata": {},
   "outputs": [
    {
     "ename": "ImportError",
     "evalue": "cannot import name 'class_1' from 'mod1' (c:\\Users\\tjddlf132\\Desktop\\ㄱ.염성일\\20220830\\mod1.py)",
     "output_type": "error",
     "traceback": [
      "\u001b[1;31m---------------------------------------------------------------------------\u001b[0m",
      "\u001b[1;31mImportError\u001b[0m                               Traceback (most recent call last)",
      "\u001b[1;32mc:\\Users\\tjddlf132\\Desktop\\ㄱ.염성일\\20220830\\module.ipynb 셀 6\u001b[0m in \u001b[0;36m<cell line: 1>\u001b[1;34m()\u001b[0m\n\u001b[1;32m----> <a href='vscode-notebook-cell:/c%3A/Users/tjddlf132/Desktop/%E3%84%B1.%EC%97%BC%EC%84%B1%EC%9D%BC/20220830/module.ipynb#W6sZmlsZQ%3D%3D?line=0'>1</a>\u001b[0m \u001b[39mfrom\u001b[39;00m \u001b[39mmod1\u001b[39;00m \u001b[39mimport\u001b[39;00m class_1\n",
      "\u001b[1;31mImportError\u001b[0m: cannot import name 'class_1' from 'mod1' (c:\\Users\\tjddlf132\\Desktop\\ㄱ.염성일\\20220830\\mod1.py)"
     ]
    }
   ],
   "source": [
    "from mod1import class_1"
   ]
  },
  {
   "cell_type": "markdown",
   "metadata": {},
   "source": [
    "1, class 생성\n",
    "2. class 생성하는 과정에서 인자 값을 2개 받고\n",
    "3. 새로운 메서드(함수) 하나 생성\n",
    "4. 생성할 때 받은 a,b\n",
    "5. a와 b 사이의 값들의 합계를 출력하는 함수 생성"
   ]
  },
  {
   "cell_type": "code",
   "execution_count": 29,
   "metadata": {},
   "outputs": [],
   "source": [
    "class class_1():\n",
    "    def func_1(self):\n",
    "        print(\"class cell\")"
   ]
  },
  {
   "cell_type": "code",
   "execution_count": 31,
   "metadata": {},
   "outputs": [],
   "source": [
    "x = class_1()"
   ]
  },
  {
   "cell_type": "code",
   "execution_count": 33,
   "metadata": {},
   "outputs": [
    {
     "data": {
      "text/plain": [
       "<bound method class_1.func_1 of <__main__.class_1 object at 0x000001851BE852A0>>"
      ]
     },
     "execution_count": 33,
     "metadata": {},
     "output_type": "execute_result"
    }
   ],
   "source": [
    "x.func_1"
   ]
  },
  {
   "cell_type": "code",
   "execution_count": 34,
   "metadata": {},
   "outputs": [
    {
     "ename": "SyntaxError",
     "evalue": "invalid syntax (267864333.py, line 2)",
     "output_type": "error",
     "traceback": [
      "\u001b[1;36m  Input \u001b[1;32mIn [34]\u001b[1;36m\u001b[0m\n\u001b[1;33m    def __init__(self input_x,input_y):\u001b[0m\n\u001b[1;37m                      ^\u001b[0m\n\u001b[1;31mSyntaxError\u001b[0m\u001b[1;31m:\u001b[0m invalid syntax\n"
     ]
    }
   ],
   "source": [
    "class class_1():\n",
    "    def __init__(self input_x,input_y):\n",
    "        self.x = input_x\n",
    "        self.y = input_y\n"
   ]
  },
  {
   "cell_type": "code",
   "execution_count": 38,
   "metadata": {},
   "outputs": [],
   "source": [
    "class class_2():\n",
    "    def __init__(self, a, b):\n",
    "        self.a = a\n",
    "        self.b = b\n",
    "\n",
    "    def func_sum(self):\n",
    "        self.sum = 0\n",
    "        for i in range(min(self.a,self.b)+1, max(self.a,self.b), 1):\n",
    "            self.sum += i\n",
    "        return self.sum\n"
   ]
  },
  {
   "cell_type": "code",
   "execution_count": 39,
   "metadata": {},
   "outputs": [],
   "source": [
    "a = class_2(5,1)"
   ]
  },
  {
   "cell_type": "code",
   "execution_count": 40,
   "metadata": {},
   "outputs": [
    {
     "name": "stdout",
     "output_type": "stream",
     "text": [
      "9\n"
     ]
    }
   ],
   "source": [
    "print(a.func_sum())"
   ]
  },
  {
   "cell_type": "code",
   "execution_count": 42,
   "metadata": {},
   "outputs": [],
   "source": [
    "class class_3():\n",
    "    def __init__(self, x, y):\n",
    "        self.x = x\n",
    "        self.y = y\n",
    "    \n",
    "    def func_sum(self):\n",
    "        self.sum = 0\n",
    "        for i in range(min(self.x,self.y)+1,max(self.x,self.y),1):\n",
    "            self.sum += i\n",
    "        return self.sum"
   ]
  },
  {
   "cell_type": "code",
   "execution_count": 43,
   "metadata": {},
   "outputs": [],
   "source": [
    "x = class_3(5,1)"
   ]
  },
  {
   "cell_type": "code",
   "execution_count": 46,
   "metadata": {},
   "outputs": [
    {
     "name": "stdout",
     "output_type": "stream",
     "text": [
      "9\n"
     ]
    }
   ],
   "source": [
    "print(a.func_sum())"
   ]
  },
  {
   "cell_type": "code",
   "execution_count": 48,
   "metadata": {},
   "outputs": [],
   "source": [
    "from calendar import c\n",
    "from tkinter import N\n",
    "\n",
    "\n",
    "class class_4():\n",
    "    def __init__(self,매출액,배당액):\n",
    "        self.a = 매출액\n",
    "        self.b = 배당액\n",
    "\n",
    "    def func_x(self):\n",
    "        self.x = 0\n",
    "        for i in range(self.a,self.b,1):\n",
    "            self.x *= i\n",
    "        return self.x\n",
    "\n"
   ]
  },
  {
   "cell_type": "code",
   "execution_count": 51,
   "metadata": {},
   "outputs": [],
   "source": [
    "a = class_4(5,3)"
   ]
  },
  {
   "cell_type": "code",
   "execution_count": 52,
   "metadata": {},
   "outputs": [
    {
     "name": "stdout",
     "output_type": "stream",
     "text": [
      "0\n"
     ]
    }
   ],
   "source": [
    "print(a.func_x())"
   ]
  }
 ],
 "metadata": {
  "kernelspec": {
   "display_name": "Python 3.10.6 64-bit",
   "language": "python",
   "name": "python3"
  },
  "language_info": {
   "codemirror_mode": {
    "name": "ipython",
    "version": 3
   },
   "file_extension": ".py",
   "mimetype": "text/x-python",
   "name": "python",
   "nbconvert_exporter": "python",
   "pygments_lexer": "ipython3",
   "version": "3.10.6"
  },
  "orig_nbformat": 4,
  "vscode": {
   "interpreter": {
    "hash": "f4d110a2421007c29e5763e456566bb3889d1406151a827559eb73ad4a82c678"
   }
  }
 },
 "nbformat": 4,
 "nbformat_minor": 2
}
