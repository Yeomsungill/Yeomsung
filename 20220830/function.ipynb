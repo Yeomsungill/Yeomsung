{
 "cells": [
  {
   "cell_type": "code",
   "execution_count": 10,
   "metadata": {},
   "outputs": [
    {
     "name": "stdout",
     "output_type": "stream",
     "text": [
      "1 2 3 4\n"
     ]
    }
   ],
   "source": [
    "def func_1(a,b=2,c=3,d=4):\n",
    "    print(a,b,c,d)\n",
    "func_1(1)"
   ]
  },
  {
   "cell_type": "code",
   "execution_count": 11,
   "metadata": {},
   "outputs": [
    {
     "name": "stdout",
     "output_type": "stream",
     "text": [
      "1 2 10 4\n"
     ]
    }
   ],
   "source": [
    "# 인자의 값은 매개변수의 순서대로 대입이 된다.\n",
    "func_1(1,c=10)"
   ]
  },
  {
   "cell_type": "code",
   "execution_count": 12,
   "metadata": {},
   "outputs": [
    {
     "name": "stdout",
     "output_type": "stream",
     "text": [
      "2 2 2 4\n"
     ]
    }
   ],
   "source": [
    "func_1(2,c=2)"
   ]
  },
  {
   "cell_type": "code",
   "execution_count": 14,
   "metadata": {},
   "outputs": [],
   "source": [
    "# 1. 함수를 하나 생성 매개변수 2개(a,b)\n",
    "# 2. 함수가 하는 행동 (a부터 b까지의 합을 리턴)\n",
    "# 3. a보다 b가 작은 경우에는 b부터 a까지의 합을 리턴 반대인 경우 a에서 b까지의 합을 구해서 리턴"
   ]
  },
  {
   "cell_type": "code",
   "execution_count": 26,
   "metadata": {},
   "outputs": [
    {
     "ename": "SyntaxError",
     "evalue": "invalid syntax (3450097214.py, line 3)",
     "output_type": "error",
     "traceback": [
      "\u001b[1;36m  Input \u001b[1;32mIn [26]\u001b[1;36m\u001b[0m\n\u001b[1;33m    def func_1(3,4,1):\u001b[0m\n\u001b[1;37m               ^\u001b[0m\n\u001b[1;31mSyntaxError\u001b[0m\u001b[1;31m:\u001b[0m invalid syntax\n"
     ]
    }
   ],
   "source": [
    "sum = 0\n",
    "\n",
    "def func_1(3,4,1):\n",
    "    for i in range(3,4,1):\n",
    "        if i == 0\n",
    "       \n",
    "        result = a+b\n",
    "        return result\n",
    "        \n",
    "        sum += 1\n",
    "        \n",
    "print(sum)"
   ]
  },
  {
   "cell_type": "code",
   "execution_count": 28,
   "metadata": {},
   "outputs": [
    {
     "name": "stdout",
     "output_type": "stream",
     "text": [
      "55\n"
     ]
    }
   ],
   "source": [
    "def func_2(a,b):\n",
    "    sum = 0\n",
    "    for i in range(a, b+1, 1):\n",
    "        sum += i\n",
    "    return sum\n",
    "\n",
    "print(func_2(1,10))"
   ]
  },
  {
   "cell_type": "code",
   "execution_count": 36,
   "metadata": {},
   "outputs": [
    {
     "name": "stdout",
     "output_type": "stream",
     "text": [
      "55\n"
     ]
    }
   ],
   "source": [
    "def func_3(a,b):\n",
    "    sum = 0\n",
    "    i = a\n",
    "    while i <= b:\n",
    "        sum += i\n",
    "        i += 1\n",
    "    return sum\n",
    "\n",
    "print(func_3(1,10))"
   ]
  },
  {
   "cell_type": "code",
   "execution_count": 38,
   "metadata": {},
   "outputs": [
    {
     "name": "stdout",
     "output_type": "stream",
     "text": [
      "55\n",
      "55\n"
     ]
    }
   ],
   "source": [
    "## a와 b의 값을 비교해서 합계 리턴\n",
    "\n",
    "def func_4(a,b):\n",
    "    sum = 0\n",
    "    if a > b :\n",
    "        for i in range(b,a+1,1):\n",
    "            sum += i\n",
    "    else:\n",
    "        for i in range(a,b+1,1):\n",
    "            sum += i\n",
    "    return sum\n",
    "\n",
    "print(func_4(10,1))\n",
    "print(func_4(1,10))"
   ]
  },
  {
   "cell_type": "code",
   "execution_count": 39,
   "metadata": {},
   "outputs": [
    {
     "name": "stdout",
     "output_type": "stream",
     "text": [
      "55\n",
      "55\n"
     ]
    }
   ],
   "source": [
    "def func_5(a,b):\n",
    "    sum = 0\n",
    "    for i in range(min(a,b), max(a,b)+1, 1):\n",
    "        sum += i\n",
    "    return sum\n",
    "\n",
    "print(func_5(10,1))\n",
    "print(func_5(1,10))   "
   ]
  },
  {
   "cell_type": "markdown",
   "metadata": {},
   "source": [
    "1. 함수 생성(매개변수는 3개 a,b,c)\n",
    "2. c의 값이 '합'이면 a+b\n",
    "3. c의 값이 '차'이면 a-b\n",
    "4. c의 값이 '곱'이면 a*b\n",
    "5. c의 값이 위의 세가지가 포함이 안되면 연산식이 잘못되었습니다. 리턴"
   ]
  },
  {
   "cell_type": "code",
   "execution_count": 40,
   "metadata": {},
   "outputs": [
    {
     "ename": "SyntaxError",
     "evalue": "expected ':' (991534409.py, line 4)",
     "output_type": "error",
     "traceback": [
      "\u001b[1;36m  Input \u001b[1;32mIn [40]\u001b[1;36m\u001b[0m\n\u001b[1;33m    for i in range(a+b,b,'합')\u001b[0m\n\u001b[1;37m                             ^\u001b[0m\n\u001b[1;31mSyntaxError\u001b[0m\u001b[1;31m:\u001b[0m expected ':'\n"
     ]
    }
   ],
   "source": [
    "def func_6(a,b,c):\n",
    "    sum = 0\n",
    "    if a + b:\n",
    "        for i in range(a+b,b,'합')\n",
    "    else if a -b:\n",
    "        for i in rage\n",
    "    \n"
   ]
  },
  {
   "cell_type": "code",
   "execution_count": 42,
   "metadata": {},
   "outputs": [
    {
     "name": "stdout",
     "output_type": "stream",
     "text": [
      "6\n",
      "-4\n",
      "5\n",
      "연산식이 잘못되었습니다.\n"
     ]
    }
   ],
   "source": [
    "def func_7(a,b,c):\n",
    "    if c == \"합\":\n",
    "        return a+b\n",
    "    elif c == \"차\":\n",
    "        return a-b\n",
    "    elif c == \"곱\":\n",
    "        return a*b\n",
    "    else:\n",
    "        return \"연산식이 잘못되었습니다.\"\n",
    "\n",
    "print(func_7(1,5,\"합\"))\n",
    "print(func_7(1,5,\"차\"))\n",
    "print(func_7(1,5,\"곱\"))\n",
    "print(func_7(1,5,\"연산식이 잘못되었습니다\"))"
   ]
  },
  {
   "cell_type": "code",
   "execution_count": 50,
   "metadata": {},
   "outputs": [
    {
     "ename": "SyntaxError",
     "evalue": "expected ':' (2351979112.py, line 8)",
     "output_type": "error",
     "traceback": [
      "\u001b[1;36m  Input \u001b[1;32mIn [50]\u001b[1;36m\u001b[0m\n\u001b[1;33m    else a = b < c:\u001b[0m\n\u001b[1;37m         ^\u001b[0m\n\u001b[1;31mSyntaxError\u001b[0m\u001b[1;31m:\u001b[0m expected ':'\n"
     ]
    }
   ],
   "source": [
    "def func_8(a,b,c):\n",
    "    if a > b < c:\n",
    "        for i in range(a,b+1,1):\n",
    "            sum += i\n",
    "    elif a > b > c:\n",
    "        for i in range(a+1,b+1,c):\n",
    "            sum -= i\n",
    "    else a = b < c:\n",
    "            sum += i\n",
    "print(func_8(3,5,10))\n",
    "        "
   ]
  },
  {
   "cell_type": "code",
   "execution_count": 52,
   "metadata": {},
   "outputs": [
    {
     "name": "stdout",
     "output_type": "stream",
     "text": [
      "25\n"
     ]
    }
   ],
   "source": [
    "# map함수\n",
    "\n",
    "def func_9(a):\n",
    "    result = a **2\n",
    "    return result\n",
    "\n",
    "print(func_9(5))"
   ]
  },
  {
   "cell_type": "code",
   "execution_count": 56,
   "metadata": {},
   "outputs": [
    {
     "name": "stdout",
     "output_type": "stream",
     "text": [
      "[1, 4, 9, 16]\n",
      "[4, 9, 16, 25]\n"
     ]
    }
   ],
   "source": [
    "a = list(map(func_9,[1,2,3,4]))\n",
    "print(a)\n",
    "\n",
    "b= list(map(func_9,[2,3,4,5]))\n",
    "print(b)"
   ]
  },
  {
   "cell_type": "code",
   "execution_count": 58,
   "metadata": {},
   "outputs": [
    {
     "name": "stdout",
     "output_type": "stream",
     "text": [
      "16\n"
     ]
    }
   ],
   "source": [
    "# lambda 함수:\n",
    "\n",
    "lamb = lambda x : x**2\n",
    "print(lamb(4))"
   ]
  }
 ],
 "metadata": {
  "kernelspec": {
   "display_name": "Python 3.10.6 64-bit",
   "language": "python",
   "name": "python3"
  },
  "language_info": {
   "codemirror_mode": {
    "name": "ipython",
    "version": 3
   },
   "file_extension": ".py",
   "mimetype": "text/x-python",
   "name": "python",
   "nbconvert_exporter": "python",
   "pygments_lexer": "ipython3",
   "version": "3.10.6"
  },
  "orig_nbformat": 4,
  "vscode": {
   "interpreter": {
    "hash": "f4d110a2421007c29e5763e456566bb3889d1406151a827559eb73ad4a82c678"
   }
  }
 },
 "nbformat": 4,
 "nbformat_minor": 2
}
